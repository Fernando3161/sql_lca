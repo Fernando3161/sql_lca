{
 "cells": [
  {
   "cell_type": "code",
   "execution_count": 428,
   "metadata": {},
   "outputs": [
    {
     "data": {
      "text/html": [
       "<div>\n",
       "<style scoped>\n",
       "    .dataframe tbody tr th:only-of-type {\n",
       "        vertical-align: middle;\n",
       "    }\n",
       "\n",
       "    .dataframe tbody tr th {\n",
       "        vertical-align: top;\n",
       "    }\n",
       "\n",
       "    .dataframe thead th {\n",
       "        text-align: right;\n",
       "    }\n",
       "</style>\n",
       "<table border=\"1\" class=\"dataframe\">\n",
       "  <thead>\n",
       "    <tr style=\"text-align: right;\">\n",
       "      <th></th>\n",
       "      <th>Processes</th>\n",
       "      <th>Unnamed: 1</th>\n",
       "      <th>Unnamed: 2</th>\n",
       "      <th>Unnamed: 3</th>\n",
       "      <th>Unnamed: 4</th>\n",
       "      <th>Unnamed: 5</th>\n",
       "      <th>Unnamed: 6</th>\n",
       "      <th>Result</th>\n",
       "    </tr>\n",
       "  </thead>\n",
       "  <tbody>\n",
       "    <tr>\n",
       "      <th>0</th>\n",
       "      <td>6.Transported f</td>\n",
       "      <td>X</td>\n",
       "      <td>X</td>\n",
       "      <td>X</td>\n",
       "      <td>X</td>\n",
       "      <td>X</td>\n",
       "      <td>X</td>\n",
       "      <td>174.648094</td>\n",
       "    </tr>\n",
       "    <tr>\n",
       "      <th>1</th>\n",
       "      <td>X</td>\n",
       "      <td>5.Filled Bottle</td>\n",
       "      <td>X</td>\n",
       "      <td>X</td>\n",
       "      <td>X</td>\n",
       "      <td>X</td>\n",
       "      <td>X</td>\n",
       "      <td>170.407407</td>\n",
       "    </tr>\n",
       "    <tr>\n",
       "      <th>2</th>\n",
       "      <td>X</td>\n",
       "      <td>X</td>\n",
       "      <td>4.Transported I</td>\n",
       "      <td>X</td>\n",
       "      <td>X</td>\n",
       "      <td>X</td>\n",
       "      <td>X</td>\n",
       "      <td>169.021520</td>\n",
       "    </tr>\n",
       "    <tr>\n",
       "      <th>3</th>\n",
       "      <td>X</td>\n",
       "      <td>X</td>\n",
       "      <td>X</td>\n",
       "      <td>3.Intermediate</td>\n",
       "      <td>X</td>\n",
       "      <td>X</td>\n",
       "      <td>X</td>\n",
       "      <td>167.986235</td>\n",
       "    </tr>\n",
       "    <tr>\n",
       "      <th>4</th>\n",
       "      <td>X</td>\n",
       "      <td>X</td>\n",
       "      <td>X</td>\n",
       "      <td>X</td>\n",
       "      <td>2.Transported G</td>\n",
       "      <td>X</td>\n",
       "      <td>X</td>\n",
       "      <td>105.666120</td>\n",
       "    </tr>\n",
       "    <tr>\n",
       "      <th>5</th>\n",
       "      <td>X</td>\n",
       "      <td>X</td>\n",
       "      <td>X</td>\n",
       "      <td>X</td>\n",
       "      <td>X</td>\n",
       "      <td>1.Granulates</td>\n",
       "      <td>X</td>\n",
       "      <td>104.630835</td>\n",
       "    </tr>\n",
       "    <tr>\n",
       "      <th>6</th>\n",
       "      <td>X</td>\n",
       "      <td>X</td>\n",
       "      <td>X</td>\n",
       "      <td>X</td>\n",
       "      <td>X</td>\n",
       "      <td>X</td>\n",
       "      <td>Polyethylene te</td>\n",
       "      <td>102.668939</td>\n",
       "    </tr>\n",
       "    <tr>\n",
       "      <th>7</th>\n",
       "      <td>X</td>\n",
       "      <td>X</td>\n",
       "      <td>X</td>\n",
       "      <td>X</td>\n",
       "      <td>X</td>\n",
       "      <td>X</td>\n",
       "      <td>Polyethylene hi</td>\n",
       "      <td>2.171778</td>\n",
       "    </tr>\n",
       "    <tr>\n",
       "      <th>8</th>\n",
       "      <td>X</td>\n",
       "      <td>X</td>\n",
       "      <td>X</td>\n",
       "      <td>X</td>\n",
       "      <td>X</td>\n",
       "      <td>Lorry transport</td>\n",
       "      <td>X</td>\n",
       "      <td>1.035285</td>\n",
       "    </tr>\n",
       "    <tr>\n",
       "      <th>9</th>\n",
       "      <td>X</td>\n",
       "      <td>X</td>\n",
       "      <td>X</td>\n",
       "      <td>X</td>\n",
       "      <td>Electricity gri</td>\n",
       "      <td>X</td>\n",
       "      <td>X</td>\n",
       "      <td>62.320115</td>\n",
       "    </tr>\n",
       "    <tr>\n",
       "      <th>10</th>\n",
       "      <td>X</td>\n",
       "      <td>X</td>\n",
       "      <td>X</td>\n",
       "      <td>X</td>\n",
       "      <td>X</td>\n",
       "      <td>Container glass</td>\n",
       "      <td>X</td>\n",
       "      <td>50.544523</td>\n",
       "    </tr>\n",
       "    <tr>\n",
       "      <th>11</th>\n",
       "      <td>X</td>\n",
       "      <td>X</td>\n",
       "      <td>X</td>\n",
       "      <td>Lorry transport</td>\n",
       "      <td>X</td>\n",
       "      <td>X</td>\n",
       "      <td>X</td>\n",
       "      <td>1.035285</td>\n",
       "    </tr>\n",
       "    <tr>\n",
       "      <th>12</th>\n",
       "      <td>X</td>\n",
       "      <td>X</td>\n",
       "      <td>Drinking water,</td>\n",
       "      <td>X</td>\n",
       "      <td>X</td>\n",
       "      <td>X</td>\n",
       "      <td>X</td>\n",
       "      <td>1.385886</td>\n",
       "    </tr>\n",
       "    <tr>\n",
       "      <th>13</th>\n",
       "      <td>X</td>\n",
       "      <td>Lorry transport</td>\n",
       "      <td>X</td>\n",
       "      <td>X</td>\n",
       "      <td>X</td>\n",
       "      <td>X</td>\n",
       "      <td>X</td>\n",
       "      <td>4.240688</td>\n",
       "    </tr>\n",
       "  </tbody>\n",
       "</table>\n",
       "</div>"
      ],
      "text/plain": [
       "          Processes       Unnamed: 1       Unnamed: 2       Unnamed: 3  \\\n",
       "0   6.Transported f                X                X                X   \n",
       "1                 X  5.Filled Bottle                X                X   \n",
       "2                 X                X  4.Transported I                X   \n",
       "3                 X                X                X  3.Intermediate    \n",
       "4                 X                X                X                X   \n",
       "5                 X                X                X                X   \n",
       "6                 X                X                X                X   \n",
       "7                 X                X                X                X   \n",
       "8                 X                X                X                X   \n",
       "9                 X                X                X                X   \n",
       "10                X                X                X                X   \n",
       "11                X                X                X  Lorry transport   \n",
       "12                X                X  Drinking water,                X   \n",
       "13                X  Lorry transport                X                X   \n",
       "\n",
       "         Unnamed: 4       Unnamed: 5       Unnamed: 6      Result  \n",
       "0                 X                X                X  174.648094  \n",
       "1                 X                X                X  170.407407  \n",
       "2                 X                X                X  169.021520  \n",
       "3                 X                X                X  167.986235  \n",
       "4   2.Transported G                X                X  105.666120  \n",
       "5                 X     1.Granulates                X  104.630835  \n",
       "6                 X                X  Polyethylene te  102.668939  \n",
       "7                 X                X  Polyethylene hi    2.171778  \n",
       "8                 X  Lorry transport                X    1.035285  \n",
       "9   Electricity gri                X                X   62.320115  \n",
       "10                X  Container glass                X   50.544523  \n",
       "11                X                X                X    1.035285  \n",
       "12                X                X                X    1.385886  \n",
       "13                X                X                X    4.240688  "
      ]
     },
     "execution_count": 428,
     "metadata": {},
     "output_type": "execute_result"
    }
   ],
   "source": [
    "import pandas as pd\n",
    "import matplotlib.pyplot as plt\n",
    "from matplotlib.sankey import Sankey\n",
    "\n",
    "# File path and sheet details\n",
    "file_path = 'test_gwp.xlsx'  # Use your specific file path if different\n",
    "sheet_name = 'Upstream tree'  # Sheet name provided\n",
    "#data_range = 'M:U'  # Specified data range\n",
    "\n",
    "# Read the Excel file\n",
    "df = pd.read_excel(file_path, sheet_name=sheet_name, \n",
    "                   #usecols=data_range,\n",
    "                    skiprows=1)\n",
    "\n",
    "res_name = [c for c in df.columns if \"Result\" in c][0]\n",
    "df.rename(columns={res_name:\"Result\"}, inplace=True)\n",
    "direc_cont =  [c for c in df.columns if \"Direct contribution\" in c][0]\n",
    "df.drop(direc_cont, axis=1, inplace=True)\n",
    "\n",
    "df = df[df['Result'] > 0]\n",
    "df.dropna(axis=1, how='all', inplace=True)\n",
    "df.reset_index(drop=True, inplace=True)\n",
    "# Shorten the text to the first 10 characters for all cells\n",
    "df = df.applymap(lambda x: x[:15] if isinstance(x, str) else x)\n",
    "df = df.fillna(\"X\")\n",
    "df"
   ]
  },
  {
   "cell_type": "code",
   "execution_count": 429,
   "metadata": {},
   "outputs": [],
   "source": [
    "## remove negatives\n",
    "# Filter out negative values\n",
    "\n",
    "def calculate_level(row):\n",
    "    # Count the number of consecutive 'X' before the first non-'X'\n",
    "    level = 0\n",
    "    for value in row:\n",
    "        if value == 'X':\n",
    "            level += 1\n",
    "        else:\n",
    "            break\n",
    "    return level\n",
    "if \"Level\" not in df.columns:\n",
    "    df['Level'] = df.apply(calculate_level, axis=1)\n"
   ]
  },
  {
   "cell_type": "code",
   "execution_count": 430,
   "metadata": {},
   "outputs": [
    {
     "data": {
      "text/html": [
       "<div>\n",
       "<style scoped>\n",
       "    .dataframe tbody tr th:only-of-type {\n",
       "        vertical-align: middle;\n",
       "    }\n",
       "\n",
       "    .dataframe tbody tr th {\n",
       "        vertical-align: top;\n",
       "    }\n",
       "\n",
       "    .dataframe thead th {\n",
       "        text-align: right;\n",
       "    }\n",
       "</style>\n",
       "<table border=\"1\" class=\"dataframe\">\n",
       "  <thead>\n",
       "    <tr style=\"text-align: right;\">\n",
       "      <th></th>\n",
       "      <th>Processes</th>\n",
       "      <th>Unnamed: 1</th>\n",
       "      <th>Unnamed: 2</th>\n",
       "      <th>Unnamed: 3</th>\n",
       "      <th>Unnamed: 4</th>\n",
       "      <th>Unnamed: 5</th>\n",
       "      <th>Unnamed: 6</th>\n",
       "      <th>Result</th>\n",
       "      <th>Level</th>\n",
       "      <th>Source</th>\n",
       "      <th>Target</th>\n",
       "    </tr>\n",
       "  </thead>\n",
       "  <tbody>\n",
       "    <tr>\n",
       "      <th>0</th>\n",
       "      <td>6.Transported f</td>\n",
       "      <td>X</td>\n",
       "      <td>X</td>\n",
       "      <td>X</td>\n",
       "      <td>X</td>\n",
       "      <td>X</td>\n",
       "      <td>X</td>\n",
       "      <td>174.648094</td>\n",
       "      <td>0</td>\n",
       "      <td>0</td>\n",
       "      <td>NaN</td>\n",
       "    </tr>\n",
       "    <tr>\n",
       "      <th>1</th>\n",
       "      <td>X</td>\n",
       "      <td>5.Filled Bottle</td>\n",
       "      <td>X</td>\n",
       "      <td>X</td>\n",
       "      <td>X</td>\n",
       "      <td>X</td>\n",
       "      <td>X</td>\n",
       "      <td>170.407407</td>\n",
       "      <td>1</td>\n",
       "      <td>1</td>\n",
       "      <td>0.0</td>\n",
       "    </tr>\n",
       "    <tr>\n",
       "      <th>2</th>\n",
       "      <td>X</td>\n",
       "      <td>X</td>\n",
       "      <td>4.Transported I</td>\n",
       "      <td>X</td>\n",
       "      <td>X</td>\n",
       "      <td>X</td>\n",
       "      <td>X</td>\n",
       "      <td>169.021520</td>\n",
       "      <td>2</td>\n",
       "      <td>2</td>\n",
       "      <td>1.0</td>\n",
       "    </tr>\n",
       "    <tr>\n",
       "      <th>3</th>\n",
       "      <td>X</td>\n",
       "      <td>X</td>\n",
       "      <td>X</td>\n",
       "      <td>3.Intermediate</td>\n",
       "      <td>X</td>\n",
       "      <td>X</td>\n",
       "      <td>X</td>\n",
       "      <td>167.986235</td>\n",
       "      <td>3</td>\n",
       "      <td>3</td>\n",
       "      <td>2.0</td>\n",
       "    </tr>\n",
       "    <tr>\n",
       "      <th>4</th>\n",
       "      <td>X</td>\n",
       "      <td>X</td>\n",
       "      <td>X</td>\n",
       "      <td>X</td>\n",
       "      <td>2.Transported G</td>\n",
       "      <td>X</td>\n",
       "      <td>X</td>\n",
       "      <td>105.666120</td>\n",
       "      <td>4</td>\n",
       "      <td>4</td>\n",
       "      <td>3.0</td>\n",
       "    </tr>\n",
       "    <tr>\n",
       "      <th>5</th>\n",
       "      <td>X</td>\n",
       "      <td>X</td>\n",
       "      <td>X</td>\n",
       "      <td>X</td>\n",
       "      <td>X</td>\n",
       "      <td>1.Granulates</td>\n",
       "      <td>X</td>\n",
       "      <td>104.630835</td>\n",
       "      <td>5</td>\n",
       "      <td>5</td>\n",
       "      <td>4.0</td>\n",
       "    </tr>\n",
       "    <tr>\n",
       "      <th>6</th>\n",
       "      <td>X</td>\n",
       "      <td>X</td>\n",
       "      <td>X</td>\n",
       "      <td>X</td>\n",
       "      <td>X</td>\n",
       "      <td>X</td>\n",
       "      <td>Polyethylene te</td>\n",
       "      <td>102.668939</td>\n",
       "      <td>6</td>\n",
       "      <td>6</td>\n",
       "      <td>5.0</td>\n",
       "    </tr>\n",
       "    <tr>\n",
       "      <th>7</th>\n",
       "      <td>X</td>\n",
       "      <td>X</td>\n",
       "      <td>X</td>\n",
       "      <td>X</td>\n",
       "      <td>X</td>\n",
       "      <td>X</td>\n",
       "      <td>Polyethylene hi</td>\n",
       "      <td>2.171778</td>\n",
       "      <td>6</td>\n",
       "      <td>7</td>\n",
       "      <td>5.0</td>\n",
       "    </tr>\n",
       "    <tr>\n",
       "      <th>8</th>\n",
       "      <td>X</td>\n",
       "      <td>X</td>\n",
       "      <td>X</td>\n",
       "      <td>X</td>\n",
       "      <td>X</td>\n",
       "      <td>Lorry transport</td>\n",
       "      <td>X</td>\n",
       "      <td>1.035285</td>\n",
       "      <td>5</td>\n",
       "      <td>8</td>\n",
       "      <td>4.0</td>\n",
       "    </tr>\n",
       "    <tr>\n",
       "      <th>9</th>\n",
       "      <td>X</td>\n",
       "      <td>X</td>\n",
       "      <td>X</td>\n",
       "      <td>X</td>\n",
       "      <td>Electricity gri</td>\n",
       "      <td>X</td>\n",
       "      <td>X</td>\n",
       "      <td>62.320115</td>\n",
       "      <td>4</td>\n",
       "      <td>9</td>\n",
       "      <td>3.0</td>\n",
       "    </tr>\n",
       "    <tr>\n",
       "      <th>10</th>\n",
       "      <td>X</td>\n",
       "      <td>X</td>\n",
       "      <td>X</td>\n",
       "      <td>X</td>\n",
       "      <td>X</td>\n",
       "      <td>Container glass</td>\n",
       "      <td>X</td>\n",
       "      <td>50.544523</td>\n",
       "      <td>5</td>\n",
       "      <td>10</td>\n",
       "      <td>9.0</td>\n",
       "    </tr>\n",
       "    <tr>\n",
       "      <th>11</th>\n",
       "      <td>X</td>\n",
       "      <td>X</td>\n",
       "      <td>X</td>\n",
       "      <td>Lorry transport</td>\n",
       "      <td>X</td>\n",
       "      <td>X</td>\n",
       "      <td>X</td>\n",
       "      <td>1.035285</td>\n",
       "      <td>3</td>\n",
       "      <td>11</td>\n",
       "      <td>2.0</td>\n",
       "    </tr>\n",
       "    <tr>\n",
       "      <th>12</th>\n",
       "      <td>X</td>\n",
       "      <td>X</td>\n",
       "      <td>Drinking water,</td>\n",
       "      <td>X</td>\n",
       "      <td>X</td>\n",
       "      <td>X</td>\n",
       "      <td>X</td>\n",
       "      <td>1.385886</td>\n",
       "      <td>2</td>\n",
       "      <td>12</td>\n",
       "      <td>1.0</td>\n",
       "    </tr>\n",
       "    <tr>\n",
       "      <th>13</th>\n",
       "      <td>X</td>\n",
       "      <td>Lorry transport</td>\n",
       "      <td>X</td>\n",
       "      <td>X</td>\n",
       "      <td>X</td>\n",
       "      <td>X</td>\n",
       "      <td>X</td>\n",
       "      <td>4.240688</td>\n",
       "      <td>1</td>\n",
       "      <td>13</td>\n",
       "      <td>0.0</td>\n",
       "    </tr>\n",
       "  </tbody>\n",
       "</table>\n",
       "</div>"
      ],
      "text/plain": [
       "          Processes       Unnamed: 1       Unnamed: 2       Unnamed: 3  \\\n",
       "0   6.Transported f                X                X                X   \n",
       "1                 X  5.Filled Bottle                X                X   \n",
       "2                 X                X  4.Transported I                X   \n",
       "3                 X                X                X  3.Intermediate    \n",
       "4                 X                X                X                X   \n",
       "5                 X                X                X                X   \n",
       "6                 X                X                X                X   \n",
       "7                 X                X                X                X   \n",
       "8                 X                X                X                X   \n",
       "9                 X                X                X                X   \n",
       "10                X                X                X                X   \n",
       "11                X                X                X  Lorry transport   \n",
       "12                X                X  Drinking water,                X   \n",
       "13                X  Lorry transport                X                X   \n",
       "\n",
       "         Unnamed: 4       Unnamed: 5       Unnamed: 6      Result  Level  \\\n",
       "0                 X                X                X  174.648094      0   \n",
       "1                 X                X                X  170.407407      1   \n",
       "2                 X                X                X  169.021520      2   \n",
       "3                 X                X                X  167.986235      3   \n",
       "4   2.Transported G                X                X  105.666120      4   \n",
       "5                 X     1.Granulates                X  104.630835      5   \n",
       "6                 X                X  Polyethylene te  102.668939      6   \n",
       "7                 X                X  Polyethylene hi    2.171778      6   \n",
       "8                 X  Lorry transport                X    1.035285      5   \n",
       "9   Electricity gri                X                X   62.320115      4   \n",
       "10                X  Container glass                X   50.544523      5   \n",
       "11                X                X                X    1.035285      3   \n",
       "12                X                X                X    1.385886      2   \n",
       "13                X                X                X    4.240688      1   \n",
       "\n",
       "    Source  Target  \n",
       "0        0     NaN  \n",
       "1        1     0.0  \n",
       "2        2     1.0  \n",
       "3        3     2.0  \n",
       "4        4     3.0  \n",
       "5        5     4.0  \n",
       "6        6     5.0  \n",
       "7        7     5.0  \n",
       "8        8     4.0  \n",
       "9        9     3.0  \n",
       "10      10     9.0  \n",
       "11      11     2.0  \n",
       "12      12     1.0  \n",
       "13      13     0.0  "
      ]
     },
     "execution_count": 430,
     "metadata": {},
     "output_type": "execute_result"
    }
   ],
   "source": [
    "\n",
    "def create_source(df):\n",
    "    return df.index.tolist()  # Source is simply the index\n",
    "\n",
    "def create_target(df):\n",
    "    target = []\n",
    "    for i in range(len(df)):\n",
    "        current_level = df['Level'].iloc[i]\n",
    "        \n",
    "        # Check if it's the first row\n",
    "        if i == 0:\n",
    "            target.append(None)  # No target for the first row\n",
    "            continue\n",
    "        \n",
    "        previous_level = df['Level'].iloc[i - 1]\n",
    "\n",
    "        if current_level == previous_level + 1:\n",
    "            # Connect to the previous row\n",
    "            target.append(i - 1)  # Target is the previous row index\n",
    "        else:\n",
    "            # Find the closest previous row with a lower level\n",
    "            found_target = None\n",
    "            for j in range(i, -1, -1):\n",
    "                if df['Level'].iloc[j] < current_level:\n",
    "                    found_target = j\n",
    "                    break\n",
    "            target.append(found_target)\n",
    "\n",
    "    return target\n",
    "\n",
    "# Create the Source and Target columns\n",
    "df['Source'] = create_source(df)\n",
    "df['Target'] = create_target(df)\n",
    "\n",
    "# Display the updated DataFrame\n",
    "df\n"
   ]
  },
  {
   "cell_type": "code",
   "execution_count": 431,
   "metadata": {},
   "outputs": [
    {
     "data": {
      "text/html": [
       "<div>\n",
       "<style scoped>\n",
       "    .dataframe tbody tr th:only-of-type {\n",
       "        vertical-align: middle;\n",
       "    }\n",
       "\n",
       "    .dataframe tbody tr th {\n",
       "        vertical-align: top;\n",
       "    }\n",
       "\n",
       "    .dataframe thead th {\n",
       "        text-align: right;\n",
       "    }\n",
       "</style>\n",
       "<table border=\"1\" class=\"dataframe\">\n",
       "  <thead>\n",
       "    <tr style=\"text-align: right;\">\n",
       "      <th></th>\n",
       "      <th>0</th>\n",
       "    </tr>\n",
       "  </thead>\n",
       "  <tbody>\n",
       "    <tr>\n",
       "      <th>0</th>\n",
       "      <td>6.Transported f</td>\n",
       "    </tr>\n",
       "    <tr>\n",
       "      <th>1</th>\n",
       "      <td>5.Filled Bottle</td>\n",
       "    </tr>\n",
       "    <tr>\n",
       "      <th>2</th>\n",
       "      <td>4.Transported I</td>\n",
       "    </tr>\n",
       "    <tr>\n",
       "      <th>3</th>\n",
       "      <td>3.Intermediate</td>\n",
       "    </tr>\n",
       "    <tr>\n",
       "      <th>4</th>\n",
       "      <td>2.Transported G</td>\n",
       "    </tr>\n",
       "    <tr>\n",
       "      <th>5</th>\n",
       "      <td>1.Granulates</td>\n",
       "    </tr>\n",
       "    <tr>\n",
       "      <th>6</th>\n",
       "      <td>Polyethylene te</td>\n",
       "    </tr>\n",
       "    <tr>\n",
       "      <th>7</th>\n",
       "      <td>Polyethylene hi</td>\n",
       "    </tr>\n",
       "    <tr>\n",
       "      <th>8</th>\n",
       "      <td>Lorry transport</td>\n",
       "    </tr>\n",
       "    <tr>\n",
       "      <th>9</th>\n",
       "      <td>Electricity gri</td>\n",
       "    </tr>\n",
       "    <tr>\n",
       "      <th>10</th>\n",
       "      <td>Container glass</td>\n",
       "    </tr>\n",
       "    <tr>\n",
       "      <th>11</th>\n",
       "      <td>Drinking water,</td>\n",
       "    </tr>\n",
       "  </tbody>\n",
       "</table>\n",
       "</div>"
      ],
      "text/plain": [
       "                  0\n",
       "0   6.Transported f\n",
       "1   5.Filled Bottle\n",
       "2   4.Transported I\n",
       "3   3.Intermediate \n",
       "4   2.Transported G\n",
       "5      1.Granulates\n",
       "6   Polyethylene te\n",
       "7   Polyethylene hi\n",
       "8   Lorry transport\n",
       "9   Electricity gri\n",
       "10  Container glass\n",
       "11  Drinking water,"
      ]
     },
     "execution_count": 431,
     "metadata": {},
     "output_type": "execute_result"
    }
   ],
   "source": [
    "# Define a function to extract flow names\n",
    "def extract_flows(row):\n",
    "    # Check each column and return the first non-'X' value\n",
    "    for value in row:\n",
    "        if value != 'X':\n",
    "            return value\n",
    "    return None\n",
    "df['Flow'] = df.apply(extract_flows, axis=1)\n",
    "\n",
    "# Create a mapping for flow names to unique source indices\n",
    "unique_flows = df['Flow'].unique()\n",
    "\n",
    "\n",
    "df_flows = pd.DataFrame(unique_flows)\n",
    "df_flows"
   ]
  },
  {
   "cell_type": "code",
   "execution_count": 432,
   "metadata": {},
   "outputs": [],
   "source": [
    "\n",
    "\n",
    "df['Target Name'] = df['Target'].apply(lambda x: df['Flow'].iloc[int(x)] if pd.notna(x) else None)\n",
    "df['Source Name'] = df['Source'].apply(lambda x: df['Flow'].iloc[int(x)] if pd.notna(x) else None)\n",
    "\n",
    "df['Source ID'] = df['Source Name'].apply(lambda x: df_flows[df_flows[0] == x].index[0] if pd.notna(x) else None)\n",
    "df['Target ID'] = df['Target Name'].apply(lambda x: df_flows[df_flows[0] == x].index[0] if pd.notna(x) else None)\n"
   ]
  },
  {
   "cell_type": "code",
   "execution_count": 433,
   "metadata": {},
   "outputs": [
    {
     "data": {
      "text/html": [
       "<div>\n",
       "<style scoped>\n",
       "    .dataframe tbody tr th:only-of-type {\n",
       "        vertical-align: middle;\n",
       "    }\n",
       "\n",
       "    .dataframe tbody tr th {\n",
       "        vertical-align: top;\n",
       "    }\n",
       "\n",
       "    .dataframe thead th {\n",
       "        text-align: right;\n",
       "    }\n",
       "</style>\n",
       "<table border=\"1\" class=\"dataframe\">\n",
       "  <thead>\n",
       "    <tr style=\"text-align: right;\">\n",
       "      <th></th>\n",
       "      <th>Processes</th>\n",
       "      <th>Unnamed: 1</th>\n",
       "      <th>Unnamed: 2</th>\n",
       "      <th>Unnamed: 3</th>\n",
       "      <th>Unnamed: 4</th>\n",
       "      <th>Unnamed: 5</th>\n",
       "      <th>Unnamed: 6</th>\n",
       "      <th>Result</th>\n",
       "      <th>Level</th>\n",
       "      <th>Source</th>\n",
       "      <th>Target</th>\n",
       "      <th>Flow</th>\n",
       "      <th>Target Name</th>\n",
       "      <th>Source Name</th>\n",
       "      <th>Source ID</th>\n",
       "      <th>Target ID</th>\n",
       "    </tr>\n",
       "  </thead>\n",
       "  <tbody>\n",
       "    <tr>\n",
       "      <th>0</th>\n",
       "      <td>6.Transported f</td>\n",
       "      <td>X</td>\n",
       "      <td>X</td>\n",
       "      <td>X</td>\n",
       "      <td>X</td>\n",
       "      <td>X</td>\n",
       "      <td>X</td>\n",
       "      <td>174.648094</td>\n",
       "      <td>0</td>\n",
       "      <td>0</td>\n",
       "      <td>NaN</td>\n",
       "      <td>6.Transported f</td>\n",
       "      <td>None</td>\n",
       "      <td>6.Transported f</td>\n",
       "      <td>0</td>\n",
       "      <td>NaN</td>\n",
       "    </tr>\n",
       "    <tr>\n",
       "      <th>1</th>\n",
       "      <td>X</td>\n",
       "      <td>5.Filled Bottle</td>\n",
       "      <td>X</td>\n",
       "      <td>X</td>\n",
       "      <td>X</td>\n",
       "      <td>X</td>\n",
       "      <td>X</td>\n",
       "      <td>170.407407</td>\n",
       "      <td>1</td>\n",
       "      <td>1</td>\n",
       "      <td>0.0</td>\n",
       "      <td>5.Filled Bottle</td>\n",
       "      <td>6.Transported f</td>\n",
       "      <td>5.Filled Bottle</td>\n",
       "      <td>1</td>\n",
       "      <td>0.0</td>\n",
       "    </tr>\n",
       "    <tr>\n",
       "      <th>2</th>\n",
       "      <td>X</td>\n",
       "      <td>X</td>\n",
       "      <td>4.Transported I</td>\n",
       "      <td>X</td>\n",
       "      <td>X</td>\n",
       "      <td>X</td>\n",
       "      <td>X</td>\n",
       "      <td>169.021520</td>\n",
       "      <td>2</td>\n",
       "      <td>2</td>\n",
       "      <td>1.0</td>\n",
       "      <td>4.Transported I</td>\n",
       "      <td>5.Filled Bottle</td>\n",
       "      <td>4.Transported I</td>\n",
       "      <td>2</td>\n",
       "      <td>1.0</td>\n",
       "    </tr>\n",
       "    <tr>\n",
       "      <th>3</th>\n",
       "      <td>X</td>\n",
       "      <td>X</td>\n",
       "      <td>X</td>\n",
       "      <td>3.Intermediate</td>\n",
       "      <td>X</td>\n",
       "      <td>X</td>\n",
       "      <td>X</td>\n",
       "      <td>167.986235</td>\n",
       "      <td>3</td>\n",
       "      <td>3</td>\n",
       "      <td>2.0</td>\n",
       "      <td>3.Intermediate</td>\n",
       "      <td>4.Transported I</td>\n",
       "      <td>3.Intermediate</td>\n",
       "      <td>3</td>\n",
       "      <td>2.0</td>\n",
       "    </tr>\n",
       "    <tr>\n",
       "      <th>4</th>\n",
       "      <td>X</td>\n",
       "      <td>X</td>\n",
       "      <td>X</td>\n",
       "      <td>X</td>\n",
       "      <td>2.Transported G</td>\n",
       "      <td>X</td>\n",
       "      <td>X</td>\n",
       "      <td>105.666120</td>\n",
       "      <td>4</td>\n",
       "      <td>4</td>\n",
       "      <td>3.0</td>\n",
       "      <td>2.Transported G</td>\n",
       "      <td>3.Intermediate</td>\n",
       "      <td>2.Transported G</td>\n",
       "      <td>4</td>\n",
       "      <td>3.0</td>\n",
       "    </tr>\n",
       "    <tr>\n",
       "      <th>5</th>\n",
       "      <td>X</td>\n",
       "      <td>X</td>\n",
       "      <td>X</td>\n",
       "      <td>X</td>\n",
       "      <td>X</td>\n",
       "      <td>1.Granulates</td>\n",
       "      <td>X</td>\n",
       "      <td>104.630835</td>\n",
       "      <td>5</td>\n",
       "      <td>5</td>\n",
       "      <td>4.0</td>\n",
       "      <td>1.Granulates</td>\n",
       "      <td>2.Transported G</td>\n",
       "      <td>1.Granulates</td>\n",
       "      <td>5</td>\n",
       "      <td>4.0</td>\n",
       "    </tr>\n",
       "    <tr>\n",
       "      <th>6</th>\n",
       "      <td>X</td>\n",
       "      <td>X</td>\n",
       "      <td>X</td>\n",
       "      <td>X</td>\n",
       "      <td>X</td>\n",
       "      <td>X</td>\n",
       "      <td>Polyethylene te</td>\n",
       "      <td>102.668939</td>\n",
       "      <td>6</td>\n",
       "      <td>6</td>\n",
       "      <td>5.0</td>\n",
       "      <td>Polyethylene te</td>\n",
       "      <td>1.Granulates</td>\n",
       "      <td>Polyethylene te</td>\n",
       "      <td>6</td>\n",
       "      <td>5.0</td>\n",
       "    </tr>\n",
       "    <tr>\n",
       "      <th>7</th>\n",
       "      <td>X</td>\n",
       "      <td>X</td>\n",
       "      <td>X</td>\n",
       "      <td>X</td>\n",
       "      <td>X</td>\n",
       "      <td>X</td>\n",
       "      <td>Polyethylene hi</td>\n",
       "      <td>2.171778</td>\n",
       "      <td>6</td>\n",
       "      <td>7</td>\n",
       "      <td>5.0</td>\n",
       "      <td>Polyethylene hi</td>\n",
       "      <td>1.Granulates</td>\n",
       "      <td>Polyethylene hi</td>\n",
       "      <td>7</td>\n",
       "      <td>5.0</td>\n",
       "    </tr>\n",
       "    <tr>\n",
       "      <th>8</th>\n",
       "      <td>X</td>\n",
       "      <td>X</td>\n",
       "      <td>X</td>\n",
       "      <td>X</td>\n",
       "      <td>X</td>\n",
       "      <td>Lorry transport</td>\n",
       "      <td>X</td>\n",
       "      <td>1.035285</td>\n",
       "      <td>5</td>\n",
       "      <td>8</td>\n",
       "      <td>4.0</td>\n",
       "      <td>Lorry transport</td>\n",
       "      <td>2.Transported G</td>\n",
       "      <td>Lorry transport</td>\n",
       "      <td>8</td>\n",
       "      <td>4.0</td>\n",
       "    </tr>\n",
       "    <tr>\n",
       "      <th>9</th>\n",
       "      <td>X</td>\n",
       "      <td>X</td>\n",
       "      <td>X</td>\n",
       "      <td>X</td>\n",
       "      <td>Electricity gri</td>\n",
       "      <td>X</td>\n",
       "      <td>X</td>\n",
       "      <td>62.320115</td>\n",
       "      <td>4</td>\n",
       "      <td>9</td>\n",
       "      <td>3.0</td>\n",
       "      <td>Electricity gri</td>\n",
       "      <td>3.Intermediate</td>\n",
       "      <td>Electricity gri</td>\n",
       "      <td>9</td>\n",
       "      <td>3.0</td>\n",
       "    </tr>\n",
       "    <tr>\n",
       "      <th>10</th>\n",
       "      <td>X</td>\n",
       "      <td>X</td>\n",
       "      <td>X</td>\n",
       "      <td>X</td>\n",
       "      <td>X</td>\n",
       "      <td>Container glass</td>\n",
       "      <td>X</td>\n",
       "      <td>50.544523</td>\n",
       "      <td>5</td>\n",
       "      <td>10</td>\n",
       "      <td>9.0</td>\n",
       "      <td>Container glass</td>\n",
       "      <td>Electricity gri</td>\n",
       "      <td>Container glass</td>\n",
       "      <td>10</td>\n",
       "      <td>9.0</td>\n",
       "    </tr>\n",
       "    <tr>\n",
       "      <th>11</th>\n",
       "      <td>X</td>\n",
       "      <td>X</td>\n",
       "      <td>X</td>\n",
       "      <td>Lorry transport</td>\n",
       "      <td>X</td>\n",
       "      <td>X</td>\n",
       "      <td>X</td>\n",
       "      <td>1.035285</td>\n",
       "      <td>3</td>\n",
       "      <td>11</td>\n",
       "      <td>2.0</td>\n",
       "      <td>Lorry transport</td>\n",
       "      <td>4.Transported I</td>\n",
       "      <td>Lorry transport</td>\n",
       "      <td>8</td>\n",
       "      <td>2.0</td>\n",
       "    </tr>\n",
       "    <tr>\n",
       "      <th>12</th>\n",
       "      <td>X</td>\n",
       "      <td>X</td>\n",
       "      <td>Drinking water,</td>\n",
       "      <td>X</td>\n",
       "      <td>X</td>\n",
       "      <td>X</td>\n",
       "      <td>X</td>\n",
       "      <td>1.385886</td>\n",
       "      <td>2</td>\n",
       "      <td>12</td>\n",
       "      <td>1.0</td>\n",
       "      <td>Drinking water,</td>\n",
       "      <td>5.Filled Bottle</td>\n",
       "      <td>Drinking water,</td>\n",
       "      <td>11</td>\n",
       "      <td>1.0</td>\n",
       "    </tr>\n",
       "    <tr>\n",
       "      <th>13</th>\n",
       "      <td>X</td>\n",
       "      <td>Lorry transport</td>\n",
       "      <td>X</td>\n",
       "      <td>X</td>\n",
       "      <td>X</td>\n",
       "      <td>X</td>\n",
       "      <td>X</td>\n",
       "      <td>4.240688</td>\n",
       "      <td>1</td>\n",
       "      <td>13</td>\n",
       "      <td>0.0</td>\n",
       "      <td>Lorry transport</td>\n",
       "      <td>6.Transported f</td>\n",
       "      <td>Lorry transport</td>\n",
       "      <td>8</td>\n",
       "      <td>0.0</td>\n",
       "    </tr>\n",
       "  </tbody>\n",
       "</table>\n",
       "</div>"
      ],
      "text/plain": [
       "          Processes       Unnamed: 1       Unnamed: 2       Unnamed: 3  \\\n",
       "0   6.Transported f                X                X                X   \n",
       "1                 X  5.Filled Bottle                X                X   \n",
       "2                 X                X  4.Transported I                X   \n",
       "3                 X                X                X  3.Intermediate    \n",
       "4                 X                X                X                X   \n",
       "5                 X                X                X                X   \n",
       "6                 X                X                X                X   \n",
       "7                 X                X                X                X   \n",
       "8                 X                X                X                X   \n",
       "9                 X                X                X                X   \n",
       "10                X                X                X                X   \n",
       "11                X                X                X  Lorry transport   \n",
       "12                X                X  Drinking water,                X   \n",
       "13                X  Lorry transport                X                X   \n",
       "\n",
       "         Unnamed: 4       Unnamed: 5       Unnamed: 6      Result  Level  \\\n",
       "0                 X                X                X  174.648094      0   \n",
       "1                 X                X                X  170.407407      1   \n",
       "2                 X                X                X  169.021520      2   \n",
       "3                 X                X                X  167.986235      3   \n",
       "4   2.Transported G                X                X  105.666120      4   \n",
       "5                 X     1.Granulates                X  104.630835      5   \n",
       "6                 X                X  Polyethylene te  102.668939      6   \n",
       "7                 X                X  Polyethylene hi    2.171778      6   \n",
       "8                 X  Lorry transport                X    1.035285      5   \n",
       "9   Electricity gri                X                X   62.320115      4   \n",
       "10                X  Container glass                X   50.544523      5   \n",
       "11                X                X                X    1.035285      3   \n",
       "12                X                X                X    1.385886      2   \n",
       "13                X                X                X    4.240688      1   \n",
       "\n",
       "    Source  Target             Flow      Target Name      Source Name  \\\n",
       "0        0     NaN  6.Transported f             None  6.Transported f   \n",
       "1        1     0.0  5.Filled Bottle  6.Transported f  5.Filled Bottle   \n",
       "2        2     1.0  4.Transported I  5.Filled Bottle  4.Transported I   \n",
       "3        3     2.0  3.Intermediate   4.Transported I  3.Intermediate    \n",
       "4        4     3.0  2.Transported G  3.Intermediate   2.Transported G   \n",
       "5        5     4.0     1.Granulates  2.Transported G     1.Granulates   \n",
       "6        6     5.0  Polyethylene te     1.Granulates  Polyethylene te   \n",
       "7        7     5.0  Polyethylene hi     1.Granulates  Polyethylene hi   \n",
       "8        8     4.0  Lorry transport  2.Transported G  Lorry transport   \n",
       "9        9     3.0  Electricity gri  3.Intermediate   Electricity gri   \n",
       "10      10     9.0  Container glass  Electricity gri  Container glass   \n",
       "11      11     2.0  Lorry transport  4.Transported I  Lorry transport   \n",
       "12      12     1.0  Drinking water,  5.Filled Bottle  Drinking water,   \n",
       "13      13     0.0  Lorry transport  6.Transported f  Lorry transport   \n",
       "\n",
       "    Source ID  Target ID  \n",
       "0           0        NaN  \n",
       "1           1        0.0  \n",
       "2           2        1.0  \n",
       "3           3        2.0  \n",
       "4           4        3.0  \n",
       "5           5        4.0  \n",
       "6           6        5.0  \n",
       "7           7        5.0  \n",
       "8           8        4.0  \n",
       "9           9        3.0  \n",
       "10         10        9.0  \n",
       "11          8        2.0  \n",
       "12         11        1.0  \n",
       "13          8        0.0  "
      ]
     },
     "execution_count": 433,
     "metadata": {},
     "output_type": "execute_result"
    }
   ],
   "source": [
    "df"
   ]
  },
  {
   "cell_type": "code",
   "execution_count": 434,
   "metadata": {},
   "outputs": [
    {
     "data": {
      "text/html": [
       "<div>\n",
       "<style scoped>\n",
       "    .dataframe tbody tr th:only-of-type {\n",
       "        vertical-align: middle;\n",
       "    }\n",
       "\n",
       "    .dataframe tbody tr th {\n",
       "        vertical-align: top;\n",
       "    }\n",
       "\n",
       "    .dataframe thead th {\n",
       "        text-align: right;\n",
       "    }\n",
       "</style>\n",
       "<table border=\"1\" class=\"dataframe\">\n",
       "  <thead>\n",
       "    <tr style=\"text-align: right;\">\n",
       "      <th></th>\n",
       "      <th>Result</th>\n",
       "      <th>Source Name</th>\n",
       "      <th>Target Name</th>\n",
       "    </tr>\n",
       "  </thead>\n",
       "  <tbody>\n",
       "    <tr>\n",
       "      <th>0</th>\n",
       "      <td>174.648094</td>\n",
       "      <td>6.Transported f</td>\n",
       "      <td>None</td>\n",
       "    </tr>\n",
       "    <tr>\n",
       "      <th>1</th>\n",
       "      <td>170.407407</td>\n",
       "      <td>5.Filled Bottle</td>\n",
       "      <td>6.Transported f</td>\n",
       "    </tr>\n",
       "    <tr>\n",
       "      <th>2</th>\n",
       "      <td>169.021520</td>\n",
       "      <td>4.Transported I</td>\n",
       "      <td>5.Filled Bottle</td>\n",
       "    </tr>\n",
       "    <tr>\n",
       "      <th>3</th>\n",
       "      <td>167.986235</td>\n",
       "      <td>3.Intermediate</td>\n",
       "      <td>4.Transported I</td>\n",
       "    </tr>\n",
       "    <tr>\n",
       "      <th>4</th>\n",
       "      <td>105.666120</td>\n",
       "      <td>2.Transported G</td>\n",
       "      <td>3.Intermediate</td>\n",
       "    </tr>\n",
       "    <tr>\n",
       "      <th>5</th>\n",
       "      <td>104.630835</td>\n",
       "      <td>1.Granulates</td>\n",
       "      <td>2.Transported G</td>\n",
       "    </tr>\n",
       "    <tr>\n",
       "      <th>6</th>\n",
       "      <td>102.668939</td>\n",
       "      <td>Polyethylene te</td>\n",
       "      <td>1.Granulates</td>\n",
       "    </tr>\n",
       "    <tr>\n",
       "      <th>7</th>\n",
       "      <td>2.171778</td>\n",
       "      <td>Polyethylene hi</td>\n",
       "      <td>1.Granulates</td>\n",
       "    </tr>\n",
       "    <tr>\n",
       "      <th>8</th>\n",
       "      <td>1.035285</td>\n",
       "      <td>Lorry transport</td>\n",
       "      <td>2.Transported G</td>\n",
       "    </tr>\n",
       "    <tr>\n",
       "      <th>9</th>\n",
       "      <td>62.320115</td>\n",
       "      <td>Electricity gri</td>\n",
       "      <td>3.Intermediate</td>\n",
       "    </tr>\n",
       "    <tr>\n",
       "      <th>10</th>\n",
       "      <td>50.544523</td>\n",
       "      <td>Container glass</td>\n",
       "      <td>Electricity gri</td>\n",
       "    </tr>\n",
       "    <tr>\n",
       "      <th>11</th>\n",
       "      <td>1.035285</td>\n",
       "      <td>Lorry transport</td>\n",
       "      <td>4.Transported I</td>\n",
       "    </tr>\n",
       "    <tr>\n",
       "      <th>12</th>\n",
       "      <td>1.385886</td>\n",
       "      <td>Drinking water,</td>\n",
       "      <td>5.Filled Bottle</td>\n",
       "    </tr>\n",
       "    <tr>\n",
       "      <th>13</th>\n",
       "      <td>4.240688</td>\n",
       "      <td>Lorry transport</td>\n",
       "      <td>6.Transported f</td>\n",
       "    </tr>\n",
       "  </tbody>\n",
       "</table>\n",
       "</div>"
      ],
      "text/plain": [
       "        Result      Source Name      Target Name\n",
       "0   174.648094  6.Transported f             None\n",
       "1   170.407407  5.Filled Bottle  6.Transported f\n",
       "2   169.021520  4.Transported I  5.Filled Bottle\n",
       "3   167.986235  3.Intermediate   4.Transported I\n",
       "4   105.666120  2.Transported G  3.Intermediate \n",
       "5   104.630835     1.Granulates  2.Transported G\n",
       "6   102.668939  Polyethylene te     1.Granulates\n",
       "7     2.171778  Polyethylene hi     1.Granulates\n",
       "8     1.035285  Lorry transport  2.Transported G\n",
       "9    62.320115  Electricity gri  3.Intermediate \n",
       "10   50.544523  Container glass  Electricity gri\n",
       "11    1.035285  Lorry transport  4.Transported I\n",
       "12    1.385886  Drinking water,  5.Filled Bottle\n",
       "13    4.240688  Lorry transport  6.Transported f"
      ]
     },
     "execution_count": 434,
     "metadata": {},
     "output_type": "execute_result"
    }
   ],
   "source": [
    "\n",
    "df2 = df[[\"Result\", \"Source Name\", \"Target Name\"]]\n",
    "\n",
    "df2\n"
   ]
  },
  {
   "cell_type": "code",
   "execution_count": 435,
   "metadata": {},
   "outputs": [
    {
     "data": {
      "application/vnd.plotly.v1+json": {
       "config": {
        "plotlyServerURL": "https://plot.ly"
       },
       "data": [
        {
         "link": {
          "source": [
           5,
           4,
           9,
           6,
           10,
           7,
           3,
           0,
           8,
           2,
           0,
           1,
           0
          ],
          "target": [
           11,
           5,
           4,
           9,
           6,
           10,
           10,
           6,
           9,
           8,
           4,
           5,
           11
          ],
          "value": [
           170.40740653579272,
           169.02152009554106,
           167.98623486755784,
           105.66612007106112,
           104.63083484307792,
           102.66893931743118,
           2.171777987163603,
           1.0352852279832148,
           62.32011479649672,
           50.54452269884578,
           1.0352852279832148,
           1.3858864402516804,
           4.240687568469705
          ]
         },
         "node": {
          "label": [
           "Lorry transport",
           "Drinking water,",
           "Container glass",
           "Polyethylene hi",
           "4.Transported I",
           "5.Filled Bottle",
           "2.Transported G",
           "Polyethylene te",
           "Electricity gri",
           "3.Intermediate ",
           "1.Granulates",
           "6.Transported f"
          ],
          "line": {
           "color": "black",
           "width": 0.5
          },
          "pad": 15,
          "thickness": 20
         },
         "type": "sankey"
        }
       ],
       "layout": {
        "font": {
         "size": 10
        },
        "template": {
         "data": {
          "bar": [
           {
            "error_x": {
             "color": "#2a3f5f"
            },
            "error_y": {
             "color": "#2a3f5f"
            },
            "marker": {
             "line": {
              "color": "#E5ECF6",
              "width": 0.5
             },
             "pattern": {
              "fillmode": "overlay",
              "size": 10,
              "solidity": 0.2
             }
            },
            "type": "bar"
           }
          ],
          "barpolar": [
           {
            "marker": {
             "line": {
              "color": "#E5ECF6",
              "width": 0.5
             },
             "pattern": {
              "fillmode": "overlay",
              "size": 10,
              "solidity": 0.2
             }
            },
            "type": "barpolar"
           }
          ],
          "carpet": [
           {
            "aaxis": {
             "endlinecolor": "#2a3f5f",
             "gridcolor": "white",
             "linecolor": "white",
             "minorgridcolor": "white",
             "startlinecolor": "#2a3f5f"
            },
            "baxis": {
             "endlinecolor": "#2a3f5f",
             "gridcolor": "white",
             "linecolor": "white",
             "minorgridcolor": "white",
             "startlinecolor": "#2a3f5f"
            },
            "type": "carpet"
           }
          ],
          "choropleth": [
           {
            "colorbar": {
             "outlinewidth": 0,
             "ticks": ""
            },
            "type": "choropleth"
           }
          ],
          "contour": [
           {
            "colorbar": {
             "outlinewidth": 0,
             "ticks": ""
            },
            "colorscale": [
             [
              0,
              "#0d0887"
             ],
             [
              0.1111111111111111,
              "#46039f"
             ],
             [
              0.2222222222222222,
              "#7201a8"
             ],
             [
              0.3333333333333333,
              "#9c179e"
             ],
             [
              0.4444444444444444,
              "#bd3786"
             ],
             [
              0.5555555555555556,
              "#d8576b"
             ],
             [
              0.6666666666666666,
              "#ed7953"
             ],
             [
              0.7777777777777778,
              "#fb9f3a"
             ],
             [
              0.8888888888888888,
              "#fdca26"
             ],
             [
              1,
              "#f0f921"
             ]
            ],
            "type": "contour"
           }
          ],
          "contourcarpet": [
           {
            "colorbar": {
             "outlinewidth": 0,
             "ticks": ""
            },
            "type": "contourcarpet"
           }
          ],
          "heatmap": [
           {
            "colorbar": {
             "outlinewidth": 0,
             "ticks": ""
            },
            "colorscale": [
             [
              0,
              "#0d0887"
             ],
             [
              0.1111111111111111,
              "#46039f"
             ],
             [
              0.2222222222222222,
              "#7201a8"
             ],
             [
              0.3333333333333333,
              "#9c179e"
             ],
             [
              0.4444444444444444,
              "#bd3786"
             ],
             [
              0.5555555555555556,
              "#d8576b"
             ],
             [
              0.6666666666666666,
              "#ed7953"
             ],
             [
              0.7777777777777778,
              "#fb9f3a"
             ],
             [
              0.8888888888888888,
              "#fdca26"
             ],
             [
              1,
              "#f0f921"
             ]
            ],
            "type": "heatmap"
           }
          ],
          "heatmapgl": [
           {
            "colorbar": {
             "outlinewidth": 0,
             "ticks": ""
            },
            "colorscale": [
             [
              0,
              "#0d0887"
             ],
             [
              0.1111111111111111,
              "#46039f"
             ],
             [
              0.2222222222222222,
              "#7201a8"
             ],
             [
              0.3333333333333333,
              "#9c179e"
             ],
             [
              0.4444444444444444,
              "#bd3786"
             ],
             [
              0.5555555555555556,
              "#d8576b"
             ],
             [
              0.6666666666666666,
              "#ed7953"
             ],
             [
              0.7777777777777778,
              "#fb9f3a"
             ],
             [
              0.8888888888888888,
              "#fdca26"
             ],
             [
              1,
              "#f0f921"
             ]
            ],
            "type": "heatmapgl"
           }
          ],
          "histogram": [
           {
            "marker": {
             "pattern": {
              "fillmode": "overlay",
              "size": 10,
              "solidity": 0.2
             }
            },
            "type": "histogram"
           }
          ],
          "histogram2d": [
           {
            "colorbar": {
             "outlinewidth": 0,
             "ticks": ""
            },
            "colorscale": [
             [
              0,
              "#0d0887"
             ],
             [
              0.1111111111111111,
              "#46039f"
             ],
             [
              0.2222222222222222,
              "#7201a8"
             ],
             [
              0.3333333333333333,
              "#9c179e"
             ],
             [
              0.4444444444444444,
              "#bd3786"
             ],
             [
              0.5555555555555556,
              "#d8576b"
             ],
             [
              0.6666666666666666,
              "#ed7953"
             ],
             [
              0.7777777777777778,
              "#fb9f3a"
             ],
             [
              0.8888888888888888,
              "#fdca26"
             ],
             [
              1,
              "#f0f921"
             ]
            ],
            "type": "histogram2d"
           }
          ],
          "histogram2dcontour": [
           {
            "colorbar": {
             "outlinewidth": 0,
             "ticks": ""
            },
            "colorscale": [
             [
              0,
              "#0d0887"
             ],
             [
              0.1111111111111111,
              "#46039f"
             ],
             [
              0.2222222222222222,
              "#7201a8"
             ],
             [
              0.3333333333333333,
              "#9c179e"
             ],
             [
              0.4444444444444444,
              "#bd3786"
             ],
             [
              0.5555555555555556,
              "#d8576b"
             ],
             [
              0.6666666666666666,
              "#ed7953"
             ],
             [
              0.7777777777777778,
              "#fb9f3a"
             ],
             [
              0.8888888888888888,
              "#fdca26"
             ],
             [
              1,
              "#f0f921"
             ]
            ],
            "type": "histogram2dcontour"
           }
          ],
          "mesh3d": [
           {
            "colorbar": {
             "outlinewidth": 0,
             "ticks": ""
            },
            "type": "mesh3d"
           }
          ],
          "parcoords": [
           {
            "line": {
             "colorbar": {
              "outlinewidth": 0,
              "ticks": ""
             }
            },
            "type": "parcoords"
           }
          ],
          "pie": [
           {
            "automargin": true,
            "type": "pie"
           }
          ],
          "scatter": [
           {
            "fillpattern": {
             "fillmode": "overlay",
             "size": 10,
             "solidity": 0.2
            },
            "type": "scatter"
           }
          ],
          "scatter3d": [
           {
            "line": {
             "colorbar": {
              "outlinewidth": 0,
              "ticks": ""
             }
            },
            "marker": {
             "colorbar": {
              "outlinewidth": 0,
              "ticks": ""
             }
            },
            "type": "scatter3d"
           }
          ],
          "scattercarpet": [
           {
            "marker": {
             "colorbar": {
              "outlinewidth": 0,
              "ticks": ""
             }
            },
            "type": "scattercarpet"
           }
          ],
          "scattergeo": [
           {
            "marker": {
             "colorbar": {
              "outlinewidth": 0,
              "ticks": ""
             }
            },
            "type": "scattergeo"
           }
          ],
          "scattergl": [
           {
            "marker": {
             "colorbar": {
              "outlinewidth": 0,
              "ticks": ""
             }
            },
            "type": "scattergl"
           }
          ],
          "scattermapbox": [
           {
            "marker": {
             "colorbar": {
              "outlinewidth": 0,
              "ticks": ""
             }
            },
            "type": "scattermapbox"
           }
          ],
          "scatterpolar": [
           {
            "marker": {
             "colorbar": {
              "outlinewidth": 0,
              "ticks": ""
             }
            },
            "type": "scatterpolar"
           }
          ],
          "scatterpolargl": [
           {
            "marker": {
             "colorbar": {
              "outlinewidth": 0,
              "ticks": ""
             }
            },
            "type": "scatterpolargl"
           }
          ],
          "scatterternary": [
           {
            "marker": {
             "colorbar": {
              "outlinewidth": 0,
              "ticks": ""
             }
            },
            "type": "scatterternary"
           }
          ],
          "surface": [
           {
            "colorbar": {
             "outlinewidth": 0,
             "ticks": ""
            },
            "colorscale": [
             [
              0,
              "#0d0887"
             ],
             [
              0.1111111111111111,
              "#46039f"
             ],
             [
              0.2222222222222222,
              "#7201a8"
             ],
             [
              0.3333333333333333,
              "#9c179e"
             ],
             [
              0.4444444444444444,
              "#bd3786"
             ],
             [
              0.5555555555555556,
              "#d8576b"
             ],
             [
              0.6666666666666666,
              "#ed7953"
             ],
             [
              0.7777777777777778,
              "#fb9f3a"
             ],
             [
              0.8888888888888888,
              "#fdca26"
             ],
             [
              1,
              "#f0f921"
             ]
            ],
            "type": "surface"
           }
          ],
          "table": [
           {
            "cells": {
             "fill": {
              "color": "#EBF0F8"
             },
             "line": {
              "color": "white"
             }
            },
            "header": {
             "fill": {
              "color": "#C8D4E3"
             },
             "line": {
              "color": "white"
             }
            },
            "type": "table"
           }
          ]
         },
         "layout": {
          "annotationdefaults": {
           "arrowcolor": "#2a3f5f",
           "arrowhead": 0,
           "arrowwidth": 1
          },
          "autotypenumbers": "strict",
          "coloraxis": {
           "colorbar": {
            "outlinewidth": 0,
            "ticks": ""
           }
          },
          "colorscale": {
           "diverging": [
            [
             0,
             "#8e0152"
            ],
            [
             0.1,
             "#c51b7d"
            ],
            [
             0.2,
             "#de77ae"
            ],
            [
             0.3,
             "#f1b6da"
            ],
            [
             0.4,
             "#fde0ef"
            ],
            [
             0.5,
             "#f7f7f7"
            ],
            [
             0.6,
             "#e6f5d0"
            ],
            [
             0.7,
             "#b8e186"
            ],
            [
             0.8,
             "#7fbc41"
            ],
            [
             0.9,
             "#4d9221"
            ],
            [
             1,
             "#276419"
            ]
           ],
           "sequential": [
            [
             0,
             "#0d0887"
            ],
            [
             0.1111111111111111,
             "#46039f"
            ],
            [
             0.2222222222222222,
             "#7201a8"
            ],
            [
             0.3333333333333333,
             "#9c179e"
            ],
            [
             0.4444444444444444,
             "#bd3786"
            ],
            [
             0.5555555555555556,
             "#d8576b"
            ],
            [
             0.6666666666666666,
             "#ed7953"
            ],
            [
             0.7777777777777778,
             "#fb9f3a"
            ],
            [
             0.8888888888888888,
             "#fdca26"
            ],
            [
             1,
             "#f0f921"
            ]
           ],
           "sequentialminus": [
            [
             0,
             "#0d0887"
            ],
            [
             0.1111111111111111,
             "#46039f"
            ],
            [
             0.2222222222222222,
             "#7201a8"
            ],
            [
             0.3333333333333333,
             "#9c179e"
            ],
            [
             0.4444444444444444,
             "#bd3786"
            ],
            [
             0.5555555555555556,
             "#d8576b"
            ],
            [
             0.6666666666666666,
             "#ed7953"
            ],
            [
             0.7777777777777778,
             "#fb9f3a"
            ],
            [
             0.8888888888888888,
             "#fdca26"
            ],
            [
             1,
             "#f0f921"
            ]
           ]
          },
          "colorway": [
           "#636efa",
           "#EF553B",
           "#00cc96",
           "#ab63fa",
           "#FFA15A",
           "#19d3f3",
           "#FF6692",
           "#B6E880",
           "#FF97FF",
           "#FECB52"
          ],
          "font": {
           "color": "#2a3f5f"
          },
          "geo": {
           "bgcolor": "white",
           "lakecolor": "white",
           "landcolor": "#E5ECF6",
           "showlakes": true,
           "showland": true,
           "subunitcolor": "white"
          },
          "hoverlabel": {
           "align": "left"
          },
          "hovermode": "closest",
          "mapbox": {
           "style": "light"
          },
          "paper_bgcolor": "white",
          "plot_bgcolor": "#E5ECF6",
          "polar": {
           "angularaxis": {
            "gridcolor": "white",
            "linecolor": "white",
            "ticks": ""
           },
           "bgcolor": "#E5ECF6",
           "radialaxis": {
            "gridcolor": "white",
            "linecolor": "white",
            "ticks": ""
           }
          },
          "scene": {
           "xaxis": {
            "backgroundcolor": "#E5ECF6",
            "gridcolor": "white",
            "gridwidth": 2,
            "linecolor": "white",
            "showbackground": true,
            "ticks": "",
            "zerolinecolor": "white"
           },
           "yaxis": {
            "backgroundcolor": "#E5ECF6",
            "gridcolor": "white",
            "gridwidth": 2,
            "linecolor": "white",
            "showbackground": true,
            "ticks": "",
            "zerolinecolor": "white"
           },
           "zaxis": {
            "backgroundcolor": "#E5ECF6",
            "gridcolor": "white",
            "gridwidth": 2,
            "linecolor": "white",
            "showbackground": true,
            "ticks": "",
            "zerolinecolor": "white"
           }
          },
          "shapedefaults": {
           "line": {
            "color": "#2a3f5f"
           }
          },
          "ternary": {
           "aaxis": {
            "gridcolor": "white",
            "linecolor": "white",
            "ticks": ""
           },
           "baxis": {
            "gridcolor": "white",
            "linecolor": "white",
            "ticks": ""
           },
           "bgcolor": "#E5ECF6",
           "caxis": {
            "gridcolor": "white",
            "linecolor": "white",
            "ticks": ""
           }
          },
          "title": {
           "x": 0.05
          },
          "xaxis": {
           "automargin": true,
           "gridcolor": "white",
           "linecolor": "white",
           "ticks": "",
           "title": {
            "standoff": 15
           },
           "zerolinecolor": "white",
           "zerolinewidth": 2
          },
          "yaxis": {
           "automargin": true,
           "gridcolor": "white",
           "linecolor": "white",
           "ticks": "",
           "title": {
            "standoff": 15
           },
           "zerolinecolor": "white",
           "zerolinewidth": 2
          }
         }
        },
        "title": {
         "text": "Sankey Diagram"
        }
       }
      }
     },
     "metadata": {},
     "output_type": "display_data"
    }
   ],
   "source": [
    "import plotly.graph_objects as go\n",
    "\n",
    "# Prepare the data for the Sankey diagram\n",
    "sources = df2['Source Name'].tolist()\n",
    "targets = df2['Target Name'].tolist()\n",
    "values = df2['Result'].tolist()\n",
    "\n",
    "# Remove entries where 'Target Name' is None, since they don't have a target\n",
    "sources_cleaned = []\n",
    "targets_cleaned = []\n",
    "values_cleaned = []\n",
    "for source, target, value in zip(sources, targets, values):\n",
    "    if target is not None:\n",
    "        sources_cleaned.append(source)\n",
    "        targets_cleaned.append(target)\n",
    "        values_cleaned.append(value)\n",
    "\n",
    "# Create a list of unique labels\n",
    "labels = list(set(sources_cleaned + targets_cleaned))\n",
    "\n",
    "# Map source and target names to their corresponding index in the labels list\n",
    "source_indices = [labels.index(source) for source in sources_cleaned]\n",
    "target_indices = [labels.index(target) for target in targets_cleaned]\n",
    "\n",
    "# Create the Sankey diagram using Plotly\n",
    "fig = go.Figure(go.Sankey(\n",
    "    node = dict(\n",
    "        pad = 15,\n",
    "        thickness = 20,\n",
    "        line = dict(color = \"black\", width = 0.5),\n",
    "        label = labels,\n",
    "    ),\n",
    "    link = dict(\n",
    "        source = source_indices,  # Indices of the source nodes\n",
    "        target = target_indices,  # Indices of the target nodes\n",
    "        value = values_cleaned    # Flow values\n",
    "    )\n",
    "))\n",
    "\n",
    "# Update layout and display the figure\n",
    "fig.update_layout(title_text=\"Sankey Diagram\", font_size=10)\n",
    "fig.show()\n"
   ]
  },
  {
   "cell_type": "code",
   "execution_count": 436,
   "metadata": {},
   "outputs": [],
   "source": [
    "# Prepare data for Sankey diagram\n",
    "flows = unique_flows.tolist()\n",
    "values = df['Result'].tolist()\n",
    "sources = df['Source'].tolist()\n",
    "targets = df['Target ID'].tolist()"
   ]
  },
  {
   "cell_type": "code",
   "execution_count": 437,
   "metadata": {},
   "outputs": [],
   "source": [
    "# Create a mapping for flow names to indices\n",
    "import plotly.graph_objects as go\n",
    "\n",
    "flow_names = {name: index for index, name in enumerate(set(flows))}\n",
    "flow_indices = [flow_names[flow] for flow in flows]\n",
    "\n",
    "# Prepare data for the Sankey diagram\n",
    "sankey_data = {\n",
    "    'source': [sources[i] if targets[i] is not None else -1 for i in range(len(sources))],\n",
    "    'target': [targets[i] if targets[i] is not None else -1 for i in range(len(targets))],\n",
    "    'value': values,\n",
    "    'flow': flow_names\n",
    "}\n",
    "\n",
    "# Create a color scale based on the values, ensuring RGB values are valid\n",
    "max_value = max(values)\n",
    "colors = []\n",
    "for value in values:\n",
    "    # Normalize the value to a range of 0-255 for RGB\n",
    "    r = int((value / max_value) * 200)\n",
    "    g = int((1 - (value / max_value)) * 220)\n",
    "    b =  int((value / max_value) * 200) # Fixed green component for a consistent look\n",
    "    colors.append(f'rgb({r}, {g}, {b})')\n",
    "\n"
   ]
  },
  {
   "cell_type": "code",
   "execution_count": 438,
   "metadata": {},
   "outputs": [
    {
     "ename": "KeyError",
     "evalue": "'Flow'",
     "output_type": "error",
     "traceback": [
      "\u001b[1;31m---------------------------------------------------------------------------\u001b[0m",
      "\u001b[1;31mKeyError\u001b[0m                                  Traceback (most recent call last)",
      "File \u001b[1;32mc:\\Users\\fpenaherrera_vaca\\Software\\Anaconda3\\envs\\dataEval\\lib\\site-packages\\pandas\\core\\indexes\\base.py:3802\u001b[0m, in \u001b[0;36mIndex.get_loc\u001b[1;34m(self, key, method, tolerance)\u001b[0m\n\u001b[0;32m   3801\u001b[0m \u001b[38;5;28;01mtry\u001b[39;00m:\n\u001b[1;32m-> 3802\u001b[0m     \u001b[38;5;28;01mreturn\u001b[39;00m \u001b[38;5;28;43mself\u001b[39;49m\u001b[38;5;241;43m.\u001b[39;49m\u001b[43m_engine\u001b[49m\u001b[38;5;241;43m.\u001b[39;49m\u001b[43mget_loc\u001b[49m\u001b[43m(\u001b[49m\u001b[43mcasted_key\u001b[49m\u001b[43m)\u001b[49m\n\u001b[0;32m   3803\u001b[0m \u001b[38;5;28;01mexcept\u001b[39;00m \u001b[38;5;167;01mKeyError\u001b[39;00m \u001b[38;5;28;01mas\u001b[39;00m err:\n",
      "File \u001b[1;32mc:\\Users\\fpenaherrera_vaca\\Software\\Anaconda3\\envs\\dataEval\\lib\\site-packages\\pandas\\_libs\\index.pyx:138\u001b[0m, in \u001b[0;36mpandas._libs.index.IndexEngine.get_loc\u001b[1;34m()\u001b[0m\n",
      "File \u001b[1;32mc:\\Users\\fpenaherrera_vaca\\Software\\Anaconda3\\envs\\dataEval\\lib\\site-packages\\pandas\\_libs\\index.pyx:165\u001b[0m, in \u001b[0;36mpandas._libs.index.IndexEngine.get_loc\u001b[1;34m()\u001b[0m\n",
      "File \u001b[1;32mpandas\\_libs\\hashtable_class_helper.pxi:5745\u001b[0m, in \u001b[0;36mpandas._libs.hashtable.PyObjectHashTable.get_item\u001b[1;34m()\u001b[0m\n",
      "File \u001b[1;32mpandas\\_libs\\hashtable_class_helper.pxi:5753\u001b[0m, in \u001b[0;36mpandas._libs.hashtable.PyObjectHashTable.get_item\u001b[1;34m()\u001b[0m\n",
      "\u001b[1;31mKeyError\u001b[0m: 'Flow'",
      "\nThe above exception was the direct cause of the following exception:\n",
      "\u001b[1;31mKeyError\u001b[0m                                  Traceback (most recent call last)",
      "Cell \u001b[1;32mIn[438], line 7\u001b[0m\n\u001b[0;32m      1\u001b[0m \u001b[38;5;66;03m# Create the Sankey diagram\u001b[39;00m\n\u001b[0;32m      2\u001b[0m fig \u001b[38;5;241m=\u001b[39m go\u001b[38;5;241m.\u001b[39mFigure(go\u001b[38;5;241m.\u001b[39mSankey(\n\u001b[0;32m      3\u001b[0m     node\u001b[38;5;241m=\u001b[39m\u001b[38;5;28mdict\u001b[39m(\n\u001b[0;32m      4\u001b[0m         pad\u001b[38;5;241m=\u001b[39m\u001b[38;5;241m15\u001b[39m,\n\u001b[0;32m      5\u001b[0m         thickness\u001b[38;5;241m=\u001b[39m\u001b[38;5;241m20\u001b[39m,\n\u001b[0;32m      6\u001b[0m         line\u001b[38;5;241m=\u001b[39m\u001b[38;5;28mdict\u001b[39m(color\u001b[38;5;241m=\u001b[39m\u001b[38;5;124m\"\u001b[39m\u001b[38;5;124mblack\u001b[39m\u001b[38;5;124m\"\u001b[39m, width\u001b[38;5;241m=\u001b[39m\u001b[38;5;241m0.5\u001b[39m),\n\u001b[1;32m----> 7\u001b[0m         label\u001b[38;5;241m=\u001b[39m\u001b[43mdf2\u001b[49m\u001b[43m[\u001b[49m\u001b[38;5;124;43m\"\u001b[39;49m\u001b[38;5;124;43mFlow\u001b[39;49m\u001b[38;5;124;43m\"\u001b[39;49m\u001b[43m]\u001b[49m\u001b[38;5;241m.\u001b[39munique(),\n\u001b[0;32m      8\u001b[0m         color\u001b[38;5;241m=\u001b[39m\u001b[38;5;124m\"\u001b[39m\u001b[38;5;124mblue\u001b[39m\u001b[38;5;124m\"\u001b[39m,\n\u001b[0;32m      9\u001b[0m         hovertemplate\u001b[38;5;241m=\u001b[39m\u001b[38;5;124m'\u001b[39m\u001b[38;5;124m%\u001b[39m\u001b[38;5;132;01m{label}\u001b[39;00m\u001b[38;5;124m<extra></extra>\u001b[39m\u001b[38;5;124m'\u001b[39m\n\u001b[0;32m     10\u001b[0m     ),\n\u001b[0;32m     11\u001b[0m     link\u001b[38;5;241m=\u001b[39m\u001b[38;5;28mdict\u001b[39m(\n\u001b[0;32m     12\u001b[0m         source\u001b[38;5;241m=\u001b[39msankey_data[\u001b[38;5;124m'\u001b[39m\u001b[38;5;124msource\u001b[39m\u001b[38;5;124m'\u001b[39m],\n\u001b[0;32m     13\u001b[0m         target\u001b[38;5;241m=\u001b[39msankey_data[\u001b[38;5;124m'\u001b[39m\u001b[38;5;124mtarget\u001b[39m\u001b[38;5;124m'\u001b[39m],\n\u001b[0;32m     14\u001b[0m         value\u001b[38;5;241m=\u001b[39msankey_data[\u001b[38;5;124m'\u001b[39m\u001b[38;5;124mvalue\u001b[39m\u001b[38;5;124m'\u001b[39m],\n\u001b[0;32m     15\u001b[0m         color\u001b[38;5;241m=\u001b[39mcolors,\n\u001b[0;32m     16\u001b[0m         hovertemplate\u001b[38;5;241m=\u001b[39m\u001b[38;5;124m'\u001b[39m\u001b[38;5;124m%\u001b[39m\u001b[38;5;132;01m{source.label}\u001b[39;00m\u001b[38;5;124m → \u001b[39m\u001b[38;5;124m%\u001b[39m\u001b[38;5;132;01m{target.label}\u001b[39;00m\u001b[38;5;124m: \u001b[39m\u001b[38;5;124m%\u001b[39m\u001b[38;5;132;01m{value}\u001b[39;00m\u001b[38;5;124m<extra></extra>\u001b[39m\u001b[38;5;124m'\u001b[39m\n\u001b[0;32m     17\u001b[0m     )\n\u001b[0;32m     18\u001b[0m ))\n\u001b[0;32m     20\u001b[0m \u001b[38;5;66;03m# Update layout for better visualization\u001b[39;00m\n\u001b[0;32m     21\u001b[0m fig\u001b[38;5;241m.\u001b[39mupdate_layout(title_text\u001b[38;5;241m=\u001b[39m\u001b[38;5;124m\"\u001b[39m\u001b[38;5;124mSankey Diagram\u001b[39m\u001b[38;5;124m\"\u001b[39m, font_size\u001b[38;5;241m=\u001b[39m\u001b[38;5;241m16\u001b[39m)\n",
      "File \u001b[1;32mc:\\Users\\fpenaherrera_vaca\\Software\\Anaconda3\\envs\\dataEval\\lib\\site-packages\\pandas\\core\\frame.py:3807\u001b[0m, in \u001b[0;36mDataFrame.__getitem__\u001b[1;34m(self, key)\u001b[0m\n\u001b[0;32m   3805\u001b[0m \u001b[38;5;28;01mif\u001b[39;00m \u001b[38;5;28mself\u001b[39m\u001b[38;5;241m.\u001b[39mcolumns\u001b[38;5;241m.\u001b[39mnlevels \u001b[38;5;241m>\u001b[39m \u001b[38;5;241m1\u001b[39m:\n\u001b[0;32m   3806\u001b[0m     \u001b[38;5;28;01mreturn\u001b[39;00m \u001b[38;5;28mself\u001b[39m\u001b[38;5;241m.\u001b[39m_getitem_multilevel(key)\n\u001b[1;32m-> 3807\u001b[0m indexer \u001b[38;5;241m=\u001b[39m \u001b[38;5;28;43mself\u001b[39;49m\u001b[38;5;241;43m.\u001b[39;49m\u001b[43mcolumns\u001b[49m\u001b[38;5;241;43m.\u001b[39;49m\u001b[43mget_loc\u001b[49m\u001b[43m(\u001b[49m\u001b[43mkey\u001b[49m\u001b[43m)\u001b[49m\n\u001b[0;32m   3808\u001b[0m \u001b[38;5;28;01mif\u001b[39;00m is_integer(indexer):\n\u001b[0;32m   3809\u001b[0m     indexer \u001b[38;5;241m=\u001b[39m [indexer]\n",
      "File \u001b[1;32mc:\\Users\\fpenaherrera_vaca\\Software\\Anaconda3\\envs\\dataEval\\lib\\site-packages\\pandas\\core\\indexes\\base.py:3804\u001b[0m, in \u001b[0;36mIndex.get_loc\u001b[1;34m(self, key, method, tolerance)\u001b[0m\n\u001b[0;32m   3802\u001b[0m     \u001b[38;5;28;01mreturn\u001b[39;00m \u001b[38;5;28mself\u001b[39m\u001b[38;5;241m.\u001b[39m_engine\u001b[38;5;241m.\u001b[39mget_loc(casted_key)\n\u001b[0;32m   3803\u001b[0m \u001b[38;5;28;01mexcept\u001b[39;00m \u001b[38;5;167;01mKeyError\u001b[39;00m \u001b[38;5;28;01mas\u001b[39;00m err:\n\u001b[1;32m-> 3804\u001b[0m     \u001b[38;5;28;01mraise\u001b[39;00m \u001b[38;5;167;01mKeyError\u001b[39;00m(key) \u001b[38;5;28;01mfrom\u001b[39;00m \u001b[38;5;21;01merr\u001b[39;00m\n\u001b[0;32m   3805\u001b[0m \u001b[38;5;28;01mexcept\u001b[39;00m \u001b[38;5;167;01mTypeError\u001b[39;00m:\n\u001b[0;32m   3806\u001b[0m     \u001b[38;5;66;03m# If we have a listlike key, _check_indexing_error will raise\u001b[39;00m\n\u001b[0;32m   3807\u001b[0m     \u001b[38;5;66;03m#  InvalidIndexError. Otherwise we fall through and re-raise\u001b[39;00m\n\u001b[0;32m   3808\u001b[0m     \u001b[38;5;66;03m#  the TypeError.\u001b[39;00m\n\u001b[0;32m   3809\u001b[0m     \u001b[38;5;28mself\u001b[39m\u001b[38;5;241m.\u001b[39m_check_indexing_error(key)\n",
      "\u001b[1;31mKeyError\u001b[0m: 'Flow'"
     ]
    }
   ],
   "source": [
    "\n",
    "\n",
    "# Create the Sankey diagram\n",
    "fig = go.Figure(go.Sankey(\n",
    "    node=dict(\n",
    "        pad=15,\n",
    "        thickness=20,\n",
    "        line=dict(color=\"black\", width=0.5),\n",
    "        label=df2[\"Flow\"].unique(),\n",
    "        color=\"blue\",\n",
    "        hovertemplate='%{label}<extra></extra>'\n",
    "    ),\n",
    "    link=dict(\n",
    "        source=sankey_data['source'],\n",
    "        target=sankey_data['target'],\n",
    "        value=sankey_data['value'],\n",
    "        color=colors,\n",
    "        hovertemplate='%{source.label} → %{target.label}: %{value}<extra></extra>'\n",
    "    )\n",
    "))\n",
    "\n",
    "# Update layout for better visualization\n",
    "fig.update_layout(title_text=\"Sankey Diagram\", font_size=16)\n",
    "\n",
    "# Show the Sankey diagram\n",
    "fig.show()"
   ]
  },
  {
   "cell_type": "code",
   "execution_count": 370,
   "metadata": {},
   "outputs": [
    {
     "data": {
      "text/plain": [
       "0     0.0\n",
       "1     0.0\n",
       "2     1.0\n",
       "3     2.0\n",
       "4     3.0\n",
       "5     4.0\n",
       "6     5.0\n",
       "7     5.0\n",
       "8     4.0\n",
       "9     3.0\n",
       "10    8.0\n",
       "11    2.0\n",
       "12    1.0\n",
       "13    0.0\n",
       "Name: Target ID, dtype: float64"
      ]
     },
     "execution_count": 370,
     "metadata": {},
     "output_type": "execute_result"
    }
   ],
   "source": [
    "\n",
    "# Clean the data by removing \"X\" columns and keeping the 'Processes' and 'Result' columns\n",
    "df_cleaned = df.drop(columns=[col for col in df.columns if 'X' in col])\n",
    "\n",
    "# Separate the processes and results columns\n",
    "processes = df_cleaned.iloc[:, 0].fillna(method='ffill')  # Forward fill to account for hierarchical structure\n",
    "results = df_cleaned.iloc[:, -1].fillna(0)  # Replace any missing results with 0\n",
    "results"
   ]
  },
  {
   "cell_type": "code",
   "execution_count": 371,
   "metadata": {},
   "outputs": [
    {
     "data": {
      "image/png": "[encoded data removed]",
      "text/plain": [
       "<Figure size 640x480 with 1 Axes>"
      ]
     },
     "metadata": {},
     "output_type": "display_data"
    }
   ],
   "source": [
    "\n",
    "# Ignore negative values in the results by converting them to 0\n",
    "results = results.apply(lambda x: x if x > 0 else 0)\n",
    "\n",
    "# Define levels based on indentation (or 'X') to represent hierarchy\n",
    "def get_level(process):\n",
    "    return len(process) - len(process.lstrip(\"X\"))\n",
    "\n",
    "df_cleaned['Level'] = df_cleaned.iloc[:, 0].apply(get_level)\n",
    "\n",
    "# Group the processes by levels to define the Sankey structure\n",
    "levels = df_cleaned['Level'].unique()\n",
    "process_dict = {level: df_cleaned[df_cleaned['Level'] == level].iloc[:, 0].tolist() for level in levels}\n",
    "result_dict = {level: df_cleaned[df_cleaned['Level'] == level].iloc[:, -1].tolist() for level in levels}\n",
    "\n",
    "# Plot the Sankey diagram\n",
    "sankey = Sankey()\n",
    "\n",
    "for level in levels:\n",
    "    flows = result_dict[level]\n",
    "    labels = process_dict[level]\n",
    "    orientations = [1 if i % 2 == 0 else -1 for i in range(len(flows))]  # Alternate flow orientations for clarity\n",
    "    sankey.add(flows=flows, labels=labels, orientations=orientations)\n",
    "\n",
    "# Finish and display the diagram\n",
    "sankey.finish()\n",
    "plt.title('Sankey Diagram for Abiotic Depletion Contributions')\n",
    "plt.show()\n"
   ]
  }
 ],
 "metadata": {
  "kernelspec": {
   "display_name": "dataEval",
   "language": "python",
   "name": "python3"
  },
  "language_info": {
   "codemirror_mode": {
    "name": "ipython",
    "version": 3
   },
   "file_extension": ".py",
   "mimetype": "text/x-python",
   "name": "python",
   "nbconvert_exporter": "python",
   "pygments_lexer": "ipython3",
   "version": "3.8.16"
  }
 },
 "nbformat": 4,
 "nbformat_minor": 2
}
